{
 "cells": [
  {
   "cell_type": "markdown",
   "metadata": {},
   "source": [
    "# KodeKlubben 2.0.2 \n",
    "## Øvelser\n",
    "I dette øvelsessæt skal vi scrape og rense et datasæt med danske politikeres holdninger til en hel række holdninger. Datasættet kommer fra DR, som i forbindelse med kommunalvalget i 2017 har bedt alle kandidater om at udfylde en kandidat-test. Vi udnytter at testen sammenligner vores svar med svarende fra samtlige kandidater på en måde hvor vi kan tilgå kandidaternes svar på hvert spørgsmål. \n",
    "\n",
    "Som udgangspunkt skal i selv skrive alt koden - hvis der i bestemte øvelser skal skrives meget kode giver vi jer nogle *helper-functions*. "
   ]
  },
  {
   "cell_type": "markdown",
   "metadata": {},
   "source": [
    "# Problem 2.1 - *scrape* data fra DR\n",
    "\n",
    "Opgaven har en del trin vi skal igennem. \n",
    "* Først finder vi en liste over alle landets kommuner.\n",
    "* Så henter vi data for alle kommunalpolitikere i hver enkelt kommune.\n",
    "* Til sidst renser vi vores datasæt\n",
    "\n",
    "## 2.1.1 Hvordan *server* DR.dk deres data? \n",
    "I skal ikke skrive noget kode i den første opgave. Gå ind på [kandidattesten](https://www.dr.dk/nyheder/politik/kv17/kandidat-testen). Åben din browsers *developer console* (CTRL+SHIFT+I), find fanen *network*. Besvar spørgsmålene i kandidattesten og tryk på **Se resultat**. \n",
    "\n",
    "Find nu de .json filer DR's server har sendt til jeres computer (*hint:* kig på developer consolen). \n",
    "\n",
    "I skal lede efter en json fil der indeholder en oversigt over alle kommunerne. Noter linket til den json, i næste opgave skal vi downloade den, sådan at vi kan fremsøge kandidater for hver enkelt kommune automatisk. \n",
    "\n",
    "```\n",
    "```\n",
    "\n",
    "## 2.1.2 Hent json-filen med kommune-ID'er \n",
    "I skal bruge det link i fandt i 2.1.1. Brug `request` modulet til at downloade json filen. "
   ]
  },
  {
   "cell_type": "code",
   "execution_count": 2,
   "metadata": {},
   "outputs": [],
   "source": [
    "import requests \n",
    "\n",
    "url = 'https://www.dr.dk/tjenester/kv17-candidateapi/api/constituency/all'\n",
    "\n",
    "response = requests.get(url)\n",
    "kommuner = response.json()"
   ]
  },
  {
   "cell_type": "markdown",
   "metadata": {},
   "source": [
    "## 2.1.3 Hent kandidater"
   ]
  }
 ],
 "metadata": {
  "kernelspec": {
   "display_name": "Python 3",
   "language": "python",
   "name": "python3"
  },
  "language_info": {
   "codemirror_mode": {
    "name": "ipython",
    "version": 3
   },
   "file_extension": ".py",
   "mimetype": "text/x-python",
   "name": "python",
   "nbconvert_exporter": "python",
   "pygments_lexer": "ipython3",
   "version": "3.6.2"
  }
 },
 "nbformat": 4,
 "nbformat_minor": 2
}
