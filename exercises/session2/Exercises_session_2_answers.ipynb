{
 "cells": [
  {
   "cell_type": "markdown",
   "metadata": {},
   "source": [
    "# KodeKlubben 2.0.2 \n",
    "## Øvelser\n",
    "I dette øvelsessæt skal vi scrape og rense et datasæt med danske politikeres holdninger til en hel række holdninger. Datasættet kommer fra DR, som i forbindelse med kommunalvalget i 2017 har bedt alle kandidater om at udfylde en kandidat-test. Vi udnytter at testen sammenligner vores svar med svarende fra samtlige kandidater på en måde hvor vi kan tilgå kandidaternes svar på hvert spørgsmål. \n",
    "\n",
    "Som udgangspunkt skal i selv skrive alt koden - hvis der i bestemte øvelser skal skrives meget kode giver vi jer nogle *helper-functions*. "
   ]
  },
  {
   "cell_type": "markdown",
   "metadata": {},
   "source": [
    "# Problem 2.1 - *scrape* data fra DR\n"
   ]
  },
  {
   "cell_type": "code",
   "execution_count": null,
   "metadata": {},
   "outputs": [],
   "source": []
  }
 ],
 "metadata": {
  "kernelspec": {
   "display_name": "Python 3",
   "language": "python",
   "name": "python3"
  },
  "language_info": {
   "codemirror_mode": {
    "name": "ipython",
    "version": 3
   },
   "file_extension": ".py",
   "mimetype": "text/x-python",
   "name": "python",
   "nbconvert_exporter": "python",
   "pygments_lexer": "ipython3",
   "version": "3.6.5"
  }
 },
 "nbformat": 4,
 "nbformat_minor": 2
}
