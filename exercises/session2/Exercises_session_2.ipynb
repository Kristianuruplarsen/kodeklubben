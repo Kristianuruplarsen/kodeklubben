{
 "cells": [
  {
   "cell_type": "markdown",
   "metadata": {},
   "source": [
    "# Øvelser til kodeklubben 2.0\n",
    "I dette øvelsessæt skal vi scrape og rense et datasæt med danske politikeres holdninger til en hel række holdninger. Datasættet kommer fra DR, som i forbindelse med kommunalvalget i 2017 har bedt alle kandidater om at udfylde en kandidat-test. Vi udnytter at testen sammenligner vores svar med svarende fra samtlige kandidater på en måde hvor vi kan tilgå kandidaternes svar på hvert spørgsmål. \n",
    "\n",
    "Som udgangspunkt skal i selv skrive alt koden - hvis der i bestemte øvelser skal skrives meget kode giver vi jer nogle *helper-functions*. "
   ]
  },
  {
   "cell_type": "markdown",
   "metadata": {},
   "source": [
    "## Opgave 1 - *scrape* data fra DR\n",
    "\n",
    "Opgaven har en del trin vi skal igennem. \n",
    "* Først finder vi en liste over alle landets kommuner.\n",
    "* Så henter vi data for alle kommunalpolitikere i hver enkelt kommune.\n",
    "* Til sidst renser vi vores datasæt\n",
    "\n",
    "### 1.1 Hvordan *server* DR.dk deres data? \n",
    "I skal ikke skrive noget kode i den første opgave. Gå ind på [kandidattesten](https://www.dr.dk/nyheder/politik/kv17/kandidat-testen). Åben din browsers *developer console* (CTRL+SHIFT+I), find fanen *network*. Besvar spørgsmålene i kandidattesten og tryk på **Se resultat**. \n",
    "\n",
    "Find nu de .json filer DR's server har sendt til jeres computer (*hint:* kig på developer consolen). \n",
    "\n",
    "I skal lede efter en json fil der indeholder en oversigt over alle kommunerne. Noter linket til den json, i næste opgave skal vi downloade den, sådan at vi kan fremsøge kandidater for hver enkelt kommune automatisk. \n",
    "\n",
    "```\n",
    "```\n",
    "\n",
    "### 1.2 Hent json-filen med kommune-ID'er \n",
    "I skal bruge det link i fandt i 2.1.1. Brug `request` modulet til at downloade json filen. "
   ]
  },
  {
   "cell_type": "code",
   "execution_count": null,
   "metadata": {},
   "outputs": [],
   "source": [
    "# [Svar her]"
   ]
  },
  {
   "cell_type": "markdown",
   "metadata": {},
   "source": [
    "### 1.3 Udtræk de relevante oplysninger fra json filen\n",
    "Json filen i har hentet i spørgsmål 2.1.2 indeholder en del unødvendig information for vores formål. Kig på DR-hjemmesiden og find ud af hvilket felt i filen vi skal bruge når vi skal loope igennem alle kandidater i alle kommuner. Skriv noget kode der genererer en liste med de nødvendige data. (*Hint: det i skal bruge er en liste over de slugs DR bruger som id for hver at landets kommuner)*.  \n",
    "> *Note:* en *slug* er bare et element af en url, foreksempel er /farvel/ slug i www.hej.dk/farvel/.\n",
    ">\n",
    "> *Hint:* Iblandt slugs'ne er der også en 'ikke-oplyst' kategori, den vil i ikke have med i jeres endelige liste"
   ]
  },
  {
   "cell_type": "code",
   "execution_count": null,
   "metadata": {},
   "outputs": [],
   "source": [
    "# [Svar her]"
   ]
  },
  {
   "cell_type": "markdown",
   "metadata": {},
   "source": [
    "### 1.4 Skriv en funktion der downloader alle kandidater fra en enkelt kommune.\n",
    "Nu har i en liste over samtlige kommuner i landet, og deres *slugs*. I stedet for at downloade data for alle kommunerne på én gang, skal i skrive en funktion er downloader for en enkelt (variabel) kommune. Funktionen skal tage ét argument `kommuneslug`, så kan i nemlig nemt køre funktionen på alle kommunerne bagefter. \n",
    "\n",
    "Klik tilbage til din besvarelse af kandidattesten og klik på *\"se alle kandidater i x kommune\"*. Ligesom i opgave 2.1.1 sender https://www.dr.dk/nyheder/politik/kv17/se-din-stemmeseddel?kommune=kalundborg en json fil. Denne fil indeholder en lang række data på kandidaterne i kalundborg kommune, jeres funktion skal downloade denne json fil.\n",
    "> *Hint:* i skal have gang i jeres developer console igen\n",
    "\n",
    "Når i har skrevet funktionen bør i teste den, for eksempel på *kalundborg* kommune. \n",
    "\n"
   ]
  },
  {
   "cell_type": "code",
   "execution_count": null,
   "metadata": {},
   "outputs": [],
   "source": [
    "# [Svar her]"
   ]
  },
  {
   "cell_type": "markdown",
   "metadata": {},
   "source": [
    "### 1.5 Rens datasættet for en enkelt kommune\n",
    "Før vi downloader data for hele landet skal vi have en process sat op som automatisk renser rådata og placerer dem i en [pandas DataFrame](http://pandas.pydata.org/pandas-docs/version/0.23.4/generated/pandas.DataFrame.html). Skriv derfor en funktion der tager den rå json fil indeholdende én kommunes kandidater som indput, og konverterer denne til en DataFrame.\n",
    "> *Hint:* Der skal skrives lidt mere kode her end tidligere (se evt slides)"
   ]
  },
  {
   "cell_type": "code",
   "execution_count": null,
   "metadata": {},
   "outputs": [],
   "source": [
    "# [Svar her]"
   ]
  },
  {
   "cell_type": "markdown",
   "metadata": {},
   "source": [
    "### 1.6 Kør koden hen over alle kommunerne \n",
    "Tidligere scrapede i en liste over alle kommune*slugs*. Nu skal i skrive et loop som henter data, og derefter renser det for hver enkelt kommune i listen. Sørg for at gemme data fra de kommuner i har scrapet undervejs (evt med `pd.concat()`)\n",
    "\n",
    "> **OBS:** i skal indlægge lidt forsinkelse af pythons kald til serveren i jeres script, ellers risikerer i at DOS'e DR (ikke godt). Brug derfor `sleep` hver gang i kalder serveren:\n",
    "> ```python\n",
    "> from time import sleep\n",
    "> \n",
    "> sleep(2)\n",
    "> kald_til_server()\n",
    "> ```\n",
    "> Sørg for at sleep bliver kaldet mindst en gang for hver request i laver."
   ]
  },
  {
   "cell_type": "code",
   "execution_count": null,
   "metadata": {},
   "outputs": [],
   "source": [
    "# [Svar her]"
   ]
  },
  {
   "cell_type": "markdown",
   "metadata": {},
   "source": [
    "### 1.7 Gem det færdige datasæt som csv-fil\n",
    "Til sidst mangler vi bare at gemme datasættet som csv-fil så vi ikke skal belaste DR's server igen næste gang."
   ]
  },
  {
   "cell_type": "code",
   "execution_count": null,
   "metadata": {},
   "outputs": [],
   "source": [
    "# [Svar her]"
   ]
  }
 ],
 "metadata": {
  "kernelspec": {
   "display_name": "Python 3",
   "language": "python",
   "name": "python3"
  },
  "language_info": {
   "codemirror_mode": {
    "name": "ipython",
    "version": 3
   },
   "file_extension": ".py",
   "mimetype": "text/x-python",
   "name": "python",
   "nbconvert_exporter": "python",
   "pygments_lexer": "ipython3",
   "version": "3.6.5"
  }
 },
 "nbformat": 4,
 "nbformat_minor": 2
}
