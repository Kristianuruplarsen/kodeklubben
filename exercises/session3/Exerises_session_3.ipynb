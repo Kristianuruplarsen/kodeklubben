{
 "cells": [
  {
   "cell_type": "markdown",
   "metadata": {},
   "source": [
    "# Øvelser til kodeklubben 2.0\n",
    "Sidste gang scrapede vi data fra kandidat-testen. Denne gang skal vi visualisere datasættet på en let og overskuelig måde, for at overbevise os om at der er noget information at kommet efter. "
   ]
  },
  {
   "cell_type": "markdown",
   "metadata": {},
   "source": [
    "## Opgave 1 - load data og *final touches*\n",
    "### Opgave 1.1 Indlæs datasættet\n",
    "Load data, enten dem i gemte sidste gang, eller fra github (brug koden fra slides)\n",
    "> _Hint:_ denne gang skal i bruge pakken `pandas` (installer den med pip hvis i ikke allerede har den) som er pythons dataset-workhorse. Som regel kan man google sig til en løsning med søgeord a-la \"pandas load dataset from github\", \"pandas convert to string\" osv."
   ]
  },
  {
   "cell_type": "code",
   "execution_count": 1,
   "metadata": {},
   "outputs": [],
   "source": [
    "# [Svar her]"
   ]
  },
  {
   "cell_type": "markdown",
   "metadata": {},
   "source": [
    "### Opgave 1.2 - final touches\n",
    "Lige nu er kandidaternes svar registreret i en enkelt streng af tal mellem 1 og 5. Et 1-tal svarer til at kandidaten har svaret det mest venstrestille (\"Meget uenig\"), 5 svarer ligeledes til det meste højrestillede (\"Meget enig\").\n",
    "\n",
    "Konverter kolonnen 'answers' til en streng-variable og drop de kandidater der ikke har svaret på alle spørgsmålene fra datasættet. Hvor mange observationer mister i? \n",
    "\n",
    "Skriv dernæst en funktion der spreder answerstring ud over 15 variable (_hint:_ [stackoverflow](https://stackoverflow.com/questions/43848680/pandas-split-dataframe-column-for-every-character))."
   ]
  },
  {
   "cell_type": "code",
   "execution_count": 2,
   "metadata": {},
   "outputs": [],
   "source": [
    "# [Svar her]"
   ]
  },
  {
   "cell_type": "markdown",
   "metadata": {},
   "source": [
    "## Opgave 2\n",
    "\n",
    "Nu har i et pænt, færdigt datasæt. Næste step er at lave den interaktive figur i så til at starte med sidste fredag. For at lave den skal vi igennem et par trin:\n",
    "1. Vi skal have kollapset svarende på de 15 spørgsmål til tre akser - til det bruger vi PCA\n",
    "2. Vi skal have skrevet noget kode der producerer interaktive figurer, i får noget af koden udleveret her, fordi det kræver en hel del ligegyldig kode at sætte op.\n",
    "\n",
    "### Opgave 2.1 - PCA ($\\approx$ machine learning)\n",
    "Ligesom at pandas er pythons workhorse for datasæt, er [scikit-learn](https://scikit-learn.org/stable/) goto pakken for machine learning i python. Start med at installere scikit learn. Læs derefter lidt af [denne guide](https://jakevdp.github.io/PythonDataScienceHandbook/05.09-principal-component-analysis.html) til PCA modulet. Forsøg at få et overblik over \n",
    "1. Hvordan man importerer PCA modulet, og hvordan man bruger det \n",
    "2. Hvordan PCA virker - hvad er idéen bag algoritmen?\n",
    "\n",
    "Estimer en PCA model med 3 komponenter på de 15 kolonner med politikernes svar, jeres output skal have tre kolonner og lige så mange rækker som i har observationer i datasættet."
   ]
  },
  {
   "cell_type": "code",
   "execution_count": 3,
   "metadata": {},
   "outputs": [],
   "source": [
    "# [Svar her]"
   ]
  },
  {
   "cell_type": "markdown",
   "metadata": {},
   "source": [
    "### Opgave 2.2 Interaktive plots\n",
    "I skal ikke selv skrive særlig meget kode i denne opgave. Begynd med at installere `plotly`, som kan lave interaktive figurer. Kør derefter cellen nedenfor, sådan at i får defineret den funktion der producerer figuren. I bunden af dokumentet er der endnu en celle, som kører visualiseringen. \n",
    "\n",
    "Tilpas koden i den sidste codecell så den fungerer med jeres data. \n",
    "\n",
    "Forsøg at få en ide om hvad funktionen `plotly_3d_pca` egentligt gør."
   ]
  },
  {
   "cell_type": "code",
   "execution_count": 4,
   "metadata": {},
   "outputs": [
    {
     "data": {
      "text/html": [
       "<script type=\"text/javascript\">window.PlotlyConfig = {MathJaxConfig: 'local'};</script><script type=\"text/javascript\">if (window.MathJax) {MathJax.Hub.Config({SVG: {font: \"STIX-Web\"}});}</script><script>requirejs.config({paths: { 'plotly': ['https://cdn.plot.ly/plotly-latest.min']},});if(!window._Plotly) {require(['plotly'],function(plotly) {window._Plotly=plotly;});}</script>"
      ],
      "text/vnd.plotly.v1+html": [
       "<script type=\"text/javascript\">window.PlotlyConfig = {MathJaxConfig: 'local'};</script><script type=\"text/javascript\">if (window.MathJax) {MathJax.Hub.Config({SVG: {font: \"STIX-Web\"}});}</script><script>requirejs.config({paths: { 'plotly': ['https://cdn.plot.ly/plotly-latest.min']},});if(!window._Plotly) {require(['plotly'],function(plotly) {window._Plotly=plotly;});}</script>"
      ]
     },
     "metadata": {},
     "output_type": "display_data"
    }
   ],
   "source": [
    "# Kør denne celle - den definerer en funktion der plotter \n",
    "# den interaktive figur for jer.\n",
    "\n",
    "import plotly.offline as offline \n",
    "import plotly.plotly as py\n",
    "\n",
    "offline.init_notebook_mode(connected=True)\n",
    "\n",
    "\n",
    "\n",
    "def plotly_3d_pca(data, pca_components):\n",
    "    \"\"\" Plot a 3D scatterplot with PCA components\n",
    "    Inputs: \n",
    "        data: a pandas dataframe with candidates. \n",
    "              must include a column named 'name'\n",
    "              and one named 'party'.\n",
    "              \n",
    "        pca_components: a numpy array of PCA \n",
    "              components. Can simply be the raw\n",
    "              output from sklearn's PCA.fit_transform()\n",
    "    \n",
    "    Outputs:\n",
    "        A neat figure.\n",
    "    \"\"\"\n",
    "    figinfo = []\n",
    "\n",
    "    colors = {'A': 'red',\n",
    "            'B': 'pink',\n",
    "            'Å': 'lightgreen',\n",
    "            'C': 'darkgreen',\n",
    "            'Ø': 'darkred',\n",
    "            'O': 'orange',\n",
    "            'F': 'green',\n",
    "            'I': 'lightblue',\n",
    "            'V': 'blue'}\n",
    "\n",
    "    data['c1'] = pca_components[:,0]\n",
    "    data['c2'] = pca_components[:,1]\n",
    "    data['c3'] = pca_components[:,2]\n",
    "\n",
    "    for party in set(data.letter[data.letter != '']):\n",
    "\n",
    "        if party in colors:\n",
    "            color = colors[party]\n",
    "        else:\n",
    "            color = 'gray'\n",
    "\n",
    "        subdf = data[data.letter == party]\n",
    "        x = subdf['c1']\n",
    "        y = subdf['c2']\n",
    "        z = subdf['c3']    \n",
    "\n",
    "        trace = dict(\n",
    "            name = party,\n",
    "            text = subdf['name'] + '<br>' + subdf['party'] + '<br>',\n",
    "            hoverinfo = 'text',\n",
    "            x = x,\n",
    "            y = y,\n",
    "            z = z,\n",
    "            type = 'scatter3d',\n",
    "            mode = 'markers',\n",
    "            marker = dict(size = 2, color = color, line = dict(width = 0))\n",
    "        )\n",
    "\n",
    "        if not party in colors:\n",
    "            trace['showlegend'] = False\n",
    "\n",
    "        figinfo.append( trace )\n",
    "\n",
    "    layout = dict(\n",
    "        width=900,\n",
    "        height=700,\n",
    "        autosize=False,\n",
    "        title='3D PCA',\n",
    "        scene=dict(\n",
    "            xaxis=dict(\n",
    "                gridcolor='rgb(255, 255, 255)',\n",
    "                zerolinecolor='rgb(255, 255, 255)',\n",
    "                showbackground=True,\n",
    "                backgroundcolor='rgb(230, 230,230)'\n",
    "            ),\n",
    "            yaxis=dict(\n",
    "                gridcolor='rgb(255, 255, 255)',\n",
    "                zerolinecolor='rgb(255, 255, 255)',\n",
    "                showbackground=True,\n",
    "                backgroundcolor='rgb(230, 230,230)'\n",
    "            ),\n",
    "            zaxis=dict(\n",
    "                gridcolor='rgb(255, 255, 255)',\n",
    "                zerolinecolor='rgb(255, 255, 255)',\n",
    "                showbackground=True,\n",
    "                backgroundcolor='rgb(230, 230,230)'\n",
    "            ),\n",
    "            aspectratio = dict( x=1, y=1, z=0.7 ),\n",
    "            aspectmode = 'manual'        \n",
    "        ),\n",
    "    )\n",
    "\n",
    "    fig = dict(data = figinfo, layout = layout)\n",
    "\n",
    "    return fig"
   ]
  },
  {
   "cell_type": "code",
   "execution_count": 6,
   "metadata": {},
   "outputs": [],
   "source": [
    "#  offline.iplot(plotly_3d_pca([! DATA HER], [! PCA OUTPUT HER]), filename = 'automargin')\n",
    "offline.iplot(plotly_3d_pca(df, fittedModel), filename = 'automargin')"
   ]
  }
 ],
 "metadata": {
  "kernelspec": {
   "display_name": "Python 3",
   "language": "python",
   "name": "python3"
  },
  "language_info": {
   "codemirror_mode": {
    "name": "ipython",
    "version": 3
   },
   "file_extension": ".py",
   "mimetype": "text/x-python",
   "name": "python",
   "nbconvert_exporter": "python",
   "pygments_lexer": "ipython3",
   "version": "3.6.5"
  }
 },
 "nbformat": 4,
 "nbformat_minor": 2
}
